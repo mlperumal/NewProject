{
  "nbformat": 4,
  "nbformat_minor": 0,
  "metadata": {
    "colab": {
      "name": "Financial Data Analysis.ipynb",
      "version": "0.3.2",
      "provenance": [],
      "private_outputs": true,
      "collapsed_sections": [],
      "include_colab_link": true
    },
    "kernelspec": {
      "name": "python3",
      "display_name": "Python 3"
    },
    "accelerator": "GPU"
  },
  "cells": [
    {
      "cell_type": "markdown",
      "metadata": {
        "id": "view-in-github",
        "colab_type": "text"
      },
      "source": [
        "<a href=\"https://colab.research.google.com/github/mlperumal/NewProject/blob/master/Financial_Data_Analysis_new.ipynb\" target=\"_parent\"><img src=\"https://colab.research.google.com/assets/colab-badge.svg\" alt=\"Open In Colab\"/></a>"
      ]
    },
    {
      "metadata": {
        "id": "Kp4IoWasGB8j",
        "colab_type": "code",
        "colab": {}
      },
      "cell_type": "code",
      "source": [
        "!pip install -q xlrd\n",
        "!git clone https://github.com/mlperumal/NewProject.git"
      ],
      "execution_count": 0,
      "outputs": []
    },
    {
      "metadata": {
        "id": "Tjpo1wknuYvm",
        "colab_type": "code",
        "colab": {}
      },
      "cell_type": "code",
      "source": [
        "%matplotlib inline\n",
        "import matplotlib.pyplot as plt\n",
        "import matplotlib as DTE\n",
        "import seaborn as sns"
      ],
      "execution_count": 0,
      "outputs": []
    },
    {
      "metadata": {
        "id": "06pfhKjgGNoB",
        "colab_type": "code",
        "colab": {}
      },
      "cell_type": "code",
      "source": [
        "!ls NewProject"
      ],
      "execution_count": 0,
      "outputs": []
    },
    {
      "metadata": {
        "id": "EZ0f3QJ-GaeM",
        "colab_type": "code",
        "colab": {}
      },
      "cell_type": "code",
      "source": [
        "import pandas as pd\n",
        "\n",
        "df = pd.read_csv('NewProject/5 Year Data FInancial.csv')\n",
        "df"
      ],
      "execution_count": 0,
      "outputs": []
    },
    {
      "metadata": {
        "id": "XrtKRvZkkCEf",
        "colab_type": "code",
        "colab": {}
      },
      "cell_type": "code",
      "source": [
        "df.columns\n"
      ],
      "execution_count": 0,
      "outputs": []
    },
    {
      "metadata": {
        "id": "CLgE113zoC7M",
        "colab_type": "code",
        "colab": {}
      },
      "cell_type": "code",
      "source": [
        "df.ftypes\n"
      ],
      "execution_count": 0,
      "outputs": []
    },
    {
      "metadata": {
        "id": "pEODimiHok0q",
        "colab_type": "code",
        "colab": {}
      },
      "cell_type": "code",
      "source": [
        "df['Nifty 50 Shares Traded_n'] =  pd.to_numeric(df[\"Nifty 50 Shares Traded\"],errors='coerce')\n",
        "df.dtypes\n",
        "df['Nifty 50 Turnover (Rs. Cr)_n'] =  pd.to_numeric(df[\"Nifty 50 Turnover (Rs. Cr)\"],errors='coerce')\n",
        "df.dtypes\n"
      ],
      "execution_count": 0,
      "outputs": []
    },
    {
      "metadata": {
        "id": "_KnOesplp64c",
        "colab_type": "code",
        "colab": {}
      },
      "cell_type": "code",
      "source": [
        "df.info()"
      ],
      "execution_count": 0,
      "outputs": []
    },
    {
      "metadata": {
        "id": "olbcZMovqjGP",
        "colab_type": "code",
        "colab": {}
      },
      "cell_type": "code",
      "source": [
        "df.describe()\n"
      ],
      "execution_count": 0,
      "outputs": []
    },
    {
      "metadata": {
        "id": "QrjwtQ-P2hO1",
        "colab_type": "code",
        "colab": {}
      },
      "cell_type": "code",
      "source": [
        "df[\"New Date\"] = pd.to_datetime(df['Date'])\n",
        "df\n",
        "df['Date_plot']=DTE.dates.date2num(df['New Date'])\n",
        "df\n"
      ],
      "execution_count": 0,
      "outputs": []
    },
    {
      "metadata": {
        "id": "e6wnj6cft6fU",
        "colab_type": "code",
        "colab": {}
      },
      "cell_type": "code",
      "source": [
        ""
      ],
      "execution_count": 0,
      "outputs": []
    },
    {
      "metadata": {
        "id": "laz2XWqwOMQc",
        "colab_type": "code",
        "colab": {}
      },
      "cell_type": "code",
      "source": [
        "df.info()\n",
        "df1=df.set_index('New Date')"
      ],
      "execution_count": 0,
      "outputs": []
    },
    {
      "metadata": {
        "id": "ScMhzmFpz60O",
        "colab_type": "code",
        "colab": {}
      },
      "cell_type": "code",
      "source": [
        "df1['Nifty 50 Turnover (Rs. Cr)_n'].plot(label='nifty 50',figsize =(16,8),title = 'Stock Price Close')\n",
        "plt.show()"
      ],
      "execution_count": 0,
      "outputs": []
    },
    {
      "metadata": {
        "id": "ZRlunDj_Ub4Z",
        "colab_type": "code",
        "colab": {}
      },
      "cell_type": "code",
      "source": [
        "df1['GOLD  Value (Lacs)'].plot(label='GOLD',figsize =(16,8),title = 'Gold Value traded')\n",
        "plt.show()"
      ],
      "execution_count": 0,
      "outputs": []
    },
    {
      "metadata": {
        "id": "VGnHaz8nUwhw",
        "colab_type": "code",
        "colab": {}
      },
      "cell_type": "code",
      "source": [
        "df1['Oil Value (Lacs)'].plot(label='OIL',figsize =(16,8),title = 'Oil Value traded')\n",
        "plt.show()"
      ],
      "execution_count": 0,
      "outputs": []
    },
    {
      "metadata": {
        "id": "vvPGCtgCXPYH",
        "colab_type": "code",
        "colab": {}
      },
      "cell_type": "code",
      "source": [
        "#sns.pairplot(df1)"
      ],
      "execution_count": 0,
      "outputs": []
    },
    {
      "metadata": {
        "id": "EOooGeY5jc8o",
        "colab_type": "code",
        "colab": {}
      },
      "cell_type": "code",
      "source": [
        "df1.info()"
      ],
      "execution_count": 0,
      "outputs": []
    },
    {
      "metadata": {
        "id": "XND8jlpqixTQ",
        "colab_type": "code",
        "colab": {}
      },
      "cell_type": "code",
      "source": [
        "sns.tsplot(df1['Nifty 50 Close'],df1['INR-USD Conversion'])"
      ],
      "execution_count": 0,
      "outputs": []
    },
    {
      "metadata": {
        "id": "K97f1OBVxH4A",
        "colab_type": "code",
        "colab": {}
      },
      "cell_type": "code",
      "source": [
        "null_counts = df1.isnull().sum()\n",
        "null_counts[null_counts > 0].sort_values(ascending=False)\n"
      ],
      "execution_count": 0,
      "outputs": []
    },
    {
      "metadata": {
        "id": "totg9e-i7K-a",
        "colab_type": "code",
        "colab": {}
      },
      "cell_type": "code",
      "source": [
        "df2 = df1"
      ],
      "execution_count": 0,
      "outputs": []
    },
    {
      "metadata": {
        "id": "WnQ56r00qRRB",
        "colab_type": "code",
        "colab": {}
      },
      "cell_type": "code",
      "source": [
        "df1.head()"
      ],
      "execution_count": 0,
      "outputs": []
    },
    {
      "metadata": {
        "id": "k1f_qZw7qeOQ",
        "colab_type": "code",
        "colab": {}
      },
      "cell_type": "code",
      "source": [
        "df2.head()"
      ],
      "execution_count": 0,
      "outputs": []
    },
    {
      "metadata": {
        "id": "0q-UQU9W8M3S",
        "colab_type": "code",
        "colab": {}
      },
      "cell_type": "code",
      "source": [
        "df2['Bond Change %'] = df2['Bond Change %'].fillna(method='pad')"
      ],
      "execution_count": 0,
      "outputs": []
    },
    {
      "metadata": {
        "id": "RC444kcZ8zMc",
        "colab_type": "code",
        "colab": {}
      },
      "cell_type": "code",
      "source": [
        "df2['Bond Low'] = df2['Bond Low'].fillna(method='pad')\n",
        "df2['Bond High'] = df2['Bond High'].fillna(method='pad')\n",
        "df2['Bond Open'] = df2['Bond Open'].fillna(method='pad')\n",
        "df2['Bond Price'] = df2['Bond Price'].fillna(method='pad')\n",
        "df2['Nifty 50 Turnover (Rs. Cr)_n'] = df2['Nifty 50 Turnover (Rs. Cr)_n'].fillna(method='pad')\n",
        "df2['Nifty 50 Shares Traded_n'] = df2['Nifty 50 Shares Traded_n'].fillna(method='pad')\n",
        "df2['Nifty 50 Div Ratio'] = df2['Nifty 50 Div Ratio'].fillna(method='pad')\n",
        "df2['Nifty 50 P/B'] = df2['Nifty 50 P/B'].fillna(method='pad')\n",
        "df2['Nifty 50 P/E'] = df2['Nifty 50 P/E'].fillna(method='pad')\n",
        "df2['Nifty 50 Turnover (Rs. Cr)'] = df2['Nifty 50 Turnover (Rs. Cr)'].fillna(method='pad')\n",
        "df2['Nifty 50 Shares Traded'] = df2['Nifty 50 Shares Traded'].fillna(method='pad')\n",
        "df2['Nifty 50 Close'] = df2['Nifty 50 Close'].fillna(method='pad')\n",
        "df2['Nifty 50 Low'] = df2['Nifty 50 Low'].fillna(method='pad')\n",
        "df2['Nifty 50 High'] = df2['Nifty 50 High'].fillna(method='pad')\n",
        "df2['Nifty 50 Open'] = df2['Nifty 50 Open'].fillna(method='pad')"
      ],
      "execution_count": 0,
      "outputs": []
    },
    {
      "metadata": {
        "id": "9Ggxyfr18uUG",
        "colab_type": "code",
        "colab": {}
      },
      "cell_type": "code",
      "source": [
        "null_counts = df1.isnull().sum()\n",
        "null_counts[null_counts > 0].sort_values(ascending=False)"
      ],
      "execution_count": 0,
      "outputs": []
    },
    {
      "metadata": {
        "id": "Jo29wy1e-i-n",
        "colab_type": "code",
        "colab": {}
      },
      "cell_type": "code",
      "source": [
        "df2['Gold Rate Per Lot'] = df2['GOLD  Value (Lacs)']/df2['GOLD Traded']\n"
      ],
      "execution_count": 0,
      "outputs": []
    },
    {
      "metadata": {
        "id": "v5ims2r4SCij",
        "colab_type": "code",
        "colab": {}
      },
      "cell_type": "code",
      "source": [
        "df2['Oil Rate Per Lot'] = df2['Oil Value (Lacs)']/df2['OIL_Traded']"
      ],
      "execution_count": 0,
      "outputs": []
    },
    {
      "metadata": {
        "id": "Vvm5JEN0q72E",
        "colab_type": "code",
        "colab": {}
      },
      "cell_type": "code",
      "source": [
        "df2['Gold Rate Per Lot'] = df2['Gold Rate Per Lot'].fillna(method='pad')\n",
        "df2['Oil Rate Per Lot'] = df2['Oil Rate Per Lot'].fillna(method='pad')"
      ],
      "execution_count": 0,
      "outputs": []
    },
    {
      "metadata": {
        "id": "ptnATD3US34_",
        "colab_type": "code",
        "colab": {}
      },
      "cell_type": "code",
      "source": [
        "print(df2.head())"
      ],
      "execution_count": 0,
      "outputs": []
    },
    {
      "metadata": {
        "id": "yzymDUT2ZbHu",
        "colab_type": "code",
        "colab": {}
      },
      "cell_type": "code",
      "source": [
        "df_EDA = df2[['Date','Nifty 50 Close','Bond Price','Gold Rate Per Lot','Oil Rate Per Lot']].copy()"
      ],
      "execution_count": 0,
      "outputs": []
    },
    {
      "metadata": {
        "id": "gklud0Tg85B1",
        "colab_type": "code",
        "colab": {}
      },
      "cell_type": "code",
      "source": [
        "df_EDA.head()"
      ],
      "execution_count": 0,
      "outputs": []
    },
    {
      "metadata": {
        "id": "P3Wd-in4syzq",
        "colab_type": "code",
        "colab": {}
      },
      "cell_type": "code",
      "source": [
        "df_EDA[\"EDA Date\"] = pd.to_datetime(df_EDA['Date'])\n",
        "df_EDA=df_EDA.set_index('EDA Date')"
      ],
      "execution_count": 0,
      "outputs": []
    },
    {
      "metadata": {
        "id": "qcgzL7mR6YZS",
        "colab_type": "code",
        "colab": {}
      },
      "cell_type": "code",
      "source": [
        "df_EDA.info()"
      ],
      "execution_count": 0,
      "outputs": []
    },
    {
      "metadata": {
        "id": "JuRMdYwm6wzX",
        "colab_type": "code",
        "colab": {}
      },
      "cell_type": "code",
      "source": [
        "#df_EDA.drop(['Date'], axis =1, inplace=True)"
      ],
      "execution_count": 0,
      "outputs": []
    },
    {
      "metadata": {
        "id": "gUsnPtupwJZp",
        "colab_type": "code",
        "colab": {}
      },
      "cell_type": "code",
      "source": [
        "ax = df_EDA.plot(y=\"Nifty 50 Close\", legend=False)\n",
        "ax2 = ax.twinx()\n",
        "df_EDA.plot( y=\"Gold Rate Per Lot\", ax=ax2, legend=False, color=\"r\")\n",
        "ax3 = ax.twinx()\n",
        "df_EDA.plot( y=\"Oil Rate Per Lot\", ax=ax3, legend=False, color=\"g\")\n",
        "ax4 = ax.twinx()\n",
        "df_EDA.plot( y=\"Bond Price\", ax=ax4, legend=False, color=\"y\")\n",
        "ax.figure.legend()\n",
        "\n",
        "plt.show()"
      ],
      "execution_count": 0,
      "outputs": []
    },
    {
      "metadata": {
        "id": "Bc66SuPk8hkd",
        "colab_type": "code",
        "colab": {}
      },
      "cell_type": "code",
      "source": [
        "df_EDA\n"
      ],
      "execution_count": 0,
      "outputs": []
    },
    {
      "metadata": {
        "id": "_ujSvyrTynEM",
        "colab_type": "code",
        "colab": {}
      },
      "cell_type": "code",
      "source": [
        "df_PLT = pd.melt(df_EDA, id_vars = ['Date'])\n",
        "g = sns.factorplot(x='Date',y=\"value\", hue='variable', data=df_PLT,size=40, aspect=20)\n",
        "#df_PLT"
      ],
      "execution_count": 0,
      "outputs": []
    }
  ]
}